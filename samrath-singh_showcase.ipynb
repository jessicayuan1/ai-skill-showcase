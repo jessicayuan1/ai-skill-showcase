{
 "cells": [
  {
   "cell_type": "markdown",
   "id": "ef8c67f8",
   "metadata": {},
   "source": [
    "## Intro\n",
    "\n",
    "Hi 👋, I'm Samrath, a Software Engineering student at the University of Waterloo."
   ]
  },
  {
   "cell_type": "markdown",
   "id": "260f7ef1",
   "metadata": {},
   "source": [
    "## Step 1: Load Two Images\n",
    "\n",
    "I'm loading two handwritten digit images from the scikit-learn digits dataset. This is a well-known dataset for image classification tasks, and it's comprised of 8x8 pixel grayscale images. Using this dataset is a great way to demonstrate the model's ability to interpret a simple, structured form of image data."
   ]
  },
  {
   "cell_type": "code",
   "execution_count": 43,
   "id": "a6c955d8",
   "metadata": {},
   "outputs": [
    {
     "data": {
      "image/png": "[encoded data removed]",
      "text/plain": [
       "<Figure size 800x400 with 2 Axes>"
      ]
     },
     "metadata": {},
     "output_type": "display_data"
    },
    {
     "name": "stdout",
     "output_type": "stream",
     "text": [
      "Image 1 shape: (8, 8)\n",
      "Image 2 shape: (8, 8)\n"
     ]
    }
   ],
   "source": [
    "# Step 1: Load two images from data\n",
    "import matplotlib.pyplot as plt\n",
    "import numpy as np\n",
    "from sklearn.datasets import load_digits\n",
    "\n",
    "# Load digits dataset\n",
    "digits = load_digits()\n",
    "\n",
    "# Select images at indices 6 and 7\n",
    "image1 = digits.images[6]  # Image at index 6\n",
    "image2 = digits.images[7]  # Image at index 7\n",
    "\n",
    "# Display the two images\n",
    "fig, axes = plt.subplots(1, 2, figsize=(8, 4))\n",
    "\n",
    "axes[0].imshow(image1, cmap='gray')\n",
    "axes[0].set_title('Image 1')\n",
    "axes[0].axis('off')\n",
    "\n",
    "axes[1].imshow(image2, cmap='gray') \n",
    "axes[1].set_title('Image 2')\n",
    "axes[1].axis('off')\n",
    "\n",
    "plt.suptitle('Step 1: Two Images from Dataset', fontsize=16)\n",
    "plt.tight_layout()\n",
    "plt.show()\n",
    "\n",
    "# Check if images loaded correctly with expected dimensions\n",
    "print(f\"Image 1 shape: {image1.shape}\")\n",
    "print(f\"Image 2 shape: {image2.shape}\")"
   ]
  },
  {
   "cell_type": "markdown",
   "id": "dccae46f",
   "metadata": {},
   "source": [
    "## Step 2: Train a Simple Model\n",
    "\n",
    "I will train a Logistic Regression classifier on the digits dataset. This model is a fundamental algorithm for multi-class classification that predicts the probability of an input belonging to one of several classes (0-9). It will be able to produce different predictions for different input images."
   ]
  },
  {
   "cell_type": "code",
   "execution_count": 44,
   "id": "6fb499cd",
   "metadata": {},
   "outputs": [
    {
     "name": "stdout",
     "output_type": "stream",
     "text": [
      "Training complete!\n",
      "Model accuracy: 0.969\n"
     ]
    }
   ],
   "source": [
    "# Step 2: Train a simple model (Logistic Regression) on digits dataset\n",
    "from sklearn.linear_model import LogisticRegression\n",
    "from sklearn.model_selection import train_test_split\n",
    "from sklearn.metrics import accuracy_score\n",
    "\n",
    "# Prepare data\n",
    "X_train, X_test, y_train, y_test = train_test_split(\n",
    "    digits.data, digits.target, test_size=0.3, random_state=42\n",
    ")\n",
    "\n",
    "# Train model\n",
    "model = LogisticRegression(max_iter=1000, random_state=42)\n",
    "model.fit(X_train, y_train)\n",
    "\n",
    "# Test accuracy\n",
    "predictions = model.predict(X_test)\n",
    "accuracy = accuracy_score(y_test, predictions)\n",
    "\n",
    "print(\"Training complete!\")\n",
    "print(f\"Model accuracy: {accuracy:.3f}\")"
   ]
  },
  {
   "cell_type": "markdown",
   "id": "c0464c7c",
   "metadata": {},
   "source": [
    "## Step 3: Display Both Original and Transformed/Predicted Outcomes\n",
    "\n",
    "Now I'll display the original handwritten digits alongside the model's predictions. The visual output will show the model's ability to correctly identify the digit in each image, providing an understanding of its performance. This step helps to validate the model's predictions."
   ]
  },
  {
   "cell_type": "code",
   "execution_count": 45,
   "id": "7210cf9e",
   "metadata": {},
   "outputs": [
    {
     "data": {
      "image/png": "[encoded data removed]",
      "text/plain": [
       "<Figure size 800x400 with 2 Axes>"
      ]
     },
     "metadata": {},
     "output_type": "display_data"
    }
   ],
   "source": [
    "# Step 3: Display original and predicted outcomes side-by-side\n",
    "fig, axes = plt.subplots(1, 2, figsize=(8, 4))\n",
    "\n",
    "# Get our two specific images and their true labels\n",
    "true_label1 = digits.target[6]\n",
    "true_label2 = digits.target[7]\n",
    "\n",
    "# Make predictions on our two original images\n",
    "pred_label1 = model.predict([digits.data[6]])[0]\n",
    "pred_label2 = model.predict([digits.data[7]])[0]\n",
    "\n",
    "# Display results\n",
    "axes[0].imshow(image1, cmap='gray')\n",
    "axes[0].set_title(f'True: {true_label1}, Pred: {pred_label1}')\n",
    "axes[0].axis('off')\n",
    "\n",
    "axes[1].imshow(image2, cmap='gray')\n",
    "axes[1].set_title(f'True: {true_label2}, Pred: {pred_label2}')\n",
    "axes[1].axis('off')\n",
    "\n",
    "plt.suptitle('Step 3: Original Images with Model Predictions', fontsize=16)\n",
    "plt.tight_layout()\n",
    "plt.show()"
   ]
  },
  {
   "cell_type": "markdown",
   "id": "e9246f6c",
   "metadata": {},
   "source": [
    "## Step 4: Documentation\n",
    "\n",
    "### Approach\n",
    "I used the scikit-learn digits dataset and trained a Logistic Regression classifier to recognize handwritten digits (0-9) because it provides a clear, reproducible, and efficient way to showcase a machine learning workflow. The model's training and prediction process is straightforward and easy to understand, making it a great example for this task.\n",
    "\n",
    "### Results\n",
    "The model achieved high accuracy on the test set, successfully demonstrating basic image classification capabilities.\n",
    "\n",
    "### Technical Notes\n",
    "- Used 70/30 train-test split for reproducible results\n",
    "- Logistic Regression with max_iter=1000 to ensure convergence"
   ]
  }
 ],
 "metadata": {
  "kernelspec": {
   "display_name": ".venv",
   "language": "python",
   "name": "python3"
  },
  "language_info": {
   "codemirror_mode": {
    "name": "ipython",
    "version": 3
   },
   "file_extension": ".py",
   "mimetype": "text/x-python",
   "name": "python",
   "nbconvert_exporter": "python",
   "pygments_lexer": "ipython3",
   "version": "3.13.7"
  }
 },
 "nbformat": 4,
 "nbformat_minor": 5
}
