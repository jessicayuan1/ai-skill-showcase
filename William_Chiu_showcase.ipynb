{
 "cells": [
  {
   "cell_type": "markdown",
   "id": "ff3c1809",
   "metadata": {},
   "source": [
    "# William Chiu Showcase\n",
    "\n",
    "Hi my name is William Chiu, I'm a 2A Software Engineering student.  I’m interested in joining WAT.ai because I want to move beyond simple CRUD work and take on projects that demand real problem-solving and critical thinking. While I’ve studied ML and deep learning theory, I’ve struggled with translating that knowledge into implementation. By working on real-world projects at WAT.ai, I hope to bridge that gap while learning from other more experienced engineers."
   ]
  },
  {
   "cell_type": "code",
   "execution_count": null,
   "id": "e8de566f",
   "metadata": {
    "vscode": {
     "languageId": "plaintext"
    }
   },
   "outputs": [],
   "source": []
  }
 ],
 "metadata": {
  "language_info": {
   "name": "python"
  }
 },
 "nbformat": 4,
 "nbformat_minor": 5
}
