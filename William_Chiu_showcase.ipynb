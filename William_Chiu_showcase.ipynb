{
 "cells": [
  {
   "cell_type": "markdown",
   "id": "ff3c1809",
   "metadata": {},
   "source": [
    "# William Chiu Showcase\n"
   ]
  },
  {
   "cell_type": "code",
   "execution_count": null,
   "id": "e8de566f",
   "metadata": {
    "vscode": {
     "languageId": "plaintext"
    }
   },
   "outputs": [],
   "source": []
  }
 ],
 "metadata": {
  "language_info": {
   "name": "python"
  }
 },
 "nbformat": 4,
 "nbformat_minor": 5
}
