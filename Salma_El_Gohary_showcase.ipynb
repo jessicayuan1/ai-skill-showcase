{
 "cells": [
  {
   "cell_type": "markdown",
   "id": "d0324a87",
   "metadata": {},
   "source": [
    "# Hi there, I'm Salma!\n",
    "#### I'm a 2A Systems Design Engineering student with a strong passion for using technology to transform the medical industry. My goal is to design solutions that improve people's quality of life through innovation and human-centered design. I’ve recently developed a growing interest in applying AI to healthcare, and I am especially inspired by See-DR’s mission. I'm super excited about the opportunity to contribute to this meaningful work and support its impact."
   ]
  }
 ],
 "metadata": {
  "kernelspec": {
   "display_name": ".venv",
   "language": "python",
   "name": "python3"
  },
  "language_info": {
   "codemirror_mode": {
    "name": "ipython",
    "version": 3
   },
   "file_extension": ".py",
   "mimetype": "text/x-python",
   "name": "python",
   "nbconvert_exporter": "python",
   "pygments_lexer": "ipython3",
   "version": "3.11.7"
  }
 },
 "nbformat": 4,
 "nbformat_minor": 5
}
