{
 "cells": [
  {
   "cell_type": "markdown",
   "id": "736609fd",
   "metadata": {
    "vscode": {
     "languageId": "html"
    }
   },
   "source": [
    "<h1>Bryan</h1>\n",
    "\n",
    "<p>\n",
    "Hi, I'm a 1A student in Sofware Engineering. During my first two weeks on campus, I couln't help but notice the amound of geese everywhere.So I decided to make them part of my project! I collected a few goose photos and applied <b>K-Means color clustering</b> to them, which results in a cartoonish look\n",
    "</p>  \n",
    "</p>"
   ]
  },
  {
   "cell_type": "markdown",
   "id": "2234eaf6",
   "metadata": {
    "vscode": {
     "languageId": "html"
    }
   },
   "source": [
    "## Basic Imports"
   ]
  },
  {
   "cell_type": "code",
   "execution_count": null,
   "id": "f106a25e",
   "metadata": {},
   "outputs": [],
   "source": [
    "import numpy as np\n",
    "import matplotlib.pyplot as plt\n",
    "import matplotlib.image as mpimg\n",
    "from PIL import Image\n",
    "import requests\n",
    "import cv2\n"
   ]
  },
  {
   "cell_type": "code",
   "execution_count": null,
   "id": "ade3b0ed",
   "metadata": {},
   "outputs": [],
   "source": [
    "from sklearn.cluster import KMeans"
   ]
  },
  {
   "cell_type": "markdown",
   "id": "2f171fd0",
   "metadata": {},
   "source": [
    "### Image Loading and Color Conversion  \n",
    "- Load two goose images from the web into NumPy arrays  \n",
    "- Convert color format: OpenCV uses **BGR**, most libraries use **RGB**"
   ]
  },
  {
   "cell_type": "code",
   "execution_count": null,
   "id": "71d71d43",
   "metadata": {},
   "outputs": [],
   "source": [
    "#Load images\n",
    "goose_one = \"https://cdn.theatlantic.com/thumbor/hI-unBplRatTNq6h5lwrMinSaFA=/0x101:3000x1789/960x540/media/img/mt/2019/10/AP_101007030758/original.jpg\"\n",
    "goose_two = \"https://base-prod.rspb-prod.magnolia-platform.com/.imaging/focalpoint/_WIDTH_x_HEIGHT_/dam/jcr:7d2047d9-2411-40ae-af94-5bb3233d1e70/2097541234-Species-Canada-Goose-Flying-to-left.jpg\"\n",
    "paths = [goose_one, goose_two]\n",
    "def load_image_from_url(url):\n",
    "    headers = {\"User-Agent\": \"Mozilla/5.0\"}\n",
    "    response = requests.get(url,stream=True, headers=headers).content\n",
    "    print(response)\n",
    "    img = np.asarray(bytearray(response), dtype = np.uint8)\n",
    "    img = cv2.imdecode(img, cv2.IMREAD_COLOR)\n",
    "    img = cv2.cvtColor(img, cv2.COLOR_BGR2RGB)\n",
    "    \n",
    "    return img \n",
    "\n"
   ]
  },
  {
   "cell_type": "markdown",
   "id": "d8673374",
   "metadata": {},
   "source": [
    "### Flatten Image  \n",
    "- original shape: (height, width, channel(RBG)), basically 3D array  \n",
    "- flatten out to become 2D array of just RGB channels [ [r,g,b] ,[ r,g,b], .... ]\n"
   ]
  },
  {
   "cell_type": "code",
   "execution_count": null,
   "id": "8ced13b4",
   "metadata": {},
   "outputs": [],
   "source": [
    "def flatten_image(img):\n",
    "   image_as_array = img\n",
    "   height, width, channel = image_as_array.shape\n",
    "   image_as_2d = image_as_array.reshape(height*width, channel) \n",
    "   return image_as_2d, height, width, channel"
   ]
  },
  {
   "cell_type": "markdown",
   "id": "d4b045cb",
   "metadata": {},
   "source": [
    "### KMeans Clustering\n",
    "- Unsupervised learning to cluster RGB values   \n",
    "- Gives 6 average channels associated to a color\n",
    "- Assigns one color to every pixel in a new quantized NP array (new image)\n",
    "- Reshapes the quantized image according to (height, width, channel) to be displayable on pyplot"
   ]
  },
  {
   "cell_type": "code",
   "execution_count": null,
   "id": "5934a6f0",
   "metadata": {},
   "outputs": [],
   "source": [
    "def quantize(img):\n",
    "    image_2d, height, width, channel = flatten_image(img)\n",
    "    model = KMeans(n_clusters=6)\n",
    "    img_w_labels = model.fit_predict(image_2d)\n",
    "    cluster_rgb = model.cluster_centers_.round(0).astype(int)\n",
    "    quantized_img = cluster_rgb[img_w_labels]\n",
    "    quantized_img = np.reshape(quantized_img, (height,width,channel))\n",
    "    return quantized_img\n",
    "\n",
    "\n"
   ]
  },
  {
   "cell_type": "code",
   "execution_count": null,
   "id": "af4bd744",
   "metadata": {},
   "outputs": [],
   "source": [
    "quantized = []\n",
    "for  index, image_link in enumerate(paths):\n",
    "    quantized.append(quantize(load_image_from_url(image_link)))\n",
    "    \n",
    "\n"
   ]
  },
  {
   "cell_type": "markdown",
   "id": "2e8a93de",
   "metadata": {},
   "source": [
    "### Displaying Images Next to Each Other  \n",
    "- Basic Pyplot"
   ]
  },
  {
   "cell_type": "code",
   "execution_count": null,
   "id": "551af800",
   "metadata": {},
   "outputs": [],
   "source": [
    "fig, axes = plt.subplots(2, 2, figsize=(8, 8))\n",
    "\n",
    "for i in range(2):  # two images\n",
    "    axes[i, 0].imshow(load_image_from_url(paths[i]))\n",
    "    axes[i, 0].set_title(f\"Original {i+1}\")\n",
    "    axes[i, 0].axis(\"off\")\n",
    "\n",
    "    axes[i, 1].imshow(quantized[i])\n",
    "    axes[i, 1].set_title(f\"Quantized {i+1}\")\n",
    "    axes[i, 1].axis(\"off\")\n",
    "\n",
    "plt.tight_layout()\n",
    "plt.show()"
   ]
  },
  {
   "cell_type": "markdown",
   "id": "b9fbd15a",
   "metadata": {},
   "source": [
    "### Side Project?\n",
    "### I initially didn't fully understand this showcase so I transformed a goose into a duck using Open CV. I thought I spent too much time on this not to showcase it. You can run it below if you want.\n",
    "\n",
    "\n",
    "- Using manual ROI selection, I mask certain areas and change their colors\n",
    "- Rescale and crop the image\n",
    "- Sharpening using a sharpening kernel pulled from online\n",
    "- Everything is hardcoded\n",
    "\n",
    "\n",
    "### Anyhow, thank you for your consideration!"
   ]
  },
  {
   "cell_type": "code",
   "execution_count": null,
   "id": "e97c3df2",
   "metadata": {},
   "outputs": [],
   "source": [
    "import pandas as pd\n",
    "import numpy as np\n",
    "\n",
    "from glob import glob\n",
    "\n",
    "import cv2\n",
    "\n",
    "import matplotlib.pylab as plt"
   ]
  },
  {
   "cell_type": "code",
   "execution_count": null,
   "id": "96a5ebe0",
   "metadata": {},
   "outputs": [],
   "source": [
    "goose_img = 'images/test/goose.avif'\n"
   ]
  },
  {
   "cell_type": "code",
   "execution_count": null,
   "id": "69a12234",
   "metadata": {},
   "outputs": [],
   "source": [
    "img_cv2 = cv2.imread(goose_img)\n",
    "img_cv2_rgb = cv2.cvtColor(img_cv2,cv2.COLOR_BGR2RGB)"
   ]
  },
  {
   "cell_type": "code",
   "execution_count": null,
   "id": "de307cbd",
   "metadata": {},
   "outputs": [],
   "source": [
    "\n",
    "r = (723, 123, 1113, 1394)"
   ]
  },
  {
   "cell_type": "code",
   "execution_count": null,
   "id": "5f8c2f00",
   "metadata": {},
   "outputs": [],
   "source": [
    "cropped_goose = cropped_img = img_cv2_rgb[int(r[1]):int(r[1]+r[3]), int(r[0]):int(r[0]+r[2])]\n",
    "\n",
    "fig, ax = plt.subplots(figsize = (10,10))\n",
    "ax.imshow(cropped_goose)\n",
    "ax.axis('off')\n",
    "plt.show"
   ]
  },
  {
   "cell_type": "code",
   "execution_count": null,
   "id": "5a1f9e8b",
   "metadata": {},
   "outputs": [],
   "source": [
    "\n",
    "neck_roi = (165, 31, 230, 672)"
   ]
  },
  {
   "cell_type": "code",
   "execution_count": null,
   "id": "1dddf1b1",
   "metadata": {},
   "outputs": [],
   "source": [
    "# Convert to HSV for color masking\n",
    "neck_img = cropped_goose[int(neck_roi[1]):int(neck_roi[1]+neck_roi[3]), int(neck_roi[0]):int(neck_roi[0]+neck_roi[2])]\n",
    "hsv = cv2.cvtColor(neck_img, cv2.COLOR_RGB2HSV)\n",
    "\n",
    "# Mask for dark pixels \n",
    "mask = cv2.inRange(hsv, (0,0,0), (180,255,60))\n",
    "# Apply green color to masked area\n",
    "edited = neck_img.copy()\n",
    "edited[mask>0] = [0,64, 64]  # green\n",
    "cropped_goose[int(neck_roi[1]):int(neck_roi[1]+neck_roi[3]), int(neck_roi[0]):int(neck_roi[0]+neck_roi[2])] = edited\n",
    "plt.imshow(cropped_goose)\n",
    "plt.axis(\"off\")\n",
    "plt.show()"
   ]
  },
  {
   "cell_type": "code",
   "execution_count": null,
   "id": "fc0401f9",
   "metadata": {},
   "outputs": [],
   "source": [
    "\n",
    "chest_roi = (164, 576, 919, 684)"
   ]
  },
  {
   "cell_type": "code",
   "execution_count": null,
   "id": "d2fd4fe8",
   "metadata": {},
   "outputs": [],
   "source": [
    "\n",
    "chest_img = cropped_goose[int(chest_roi[1]):int(chest_roi[1]+chest_roi[3]), \n",
    "                          int(chest_roi[0]):int(chest_roi[0]+chest_roi[2])]\n",
    "hsv = cv2.cvtColor(chest_img, cv2.COLOR_RGB2HSV)\n",
    "\n",
    "mask = cv2.inRange(hsv, (0, 0, 80), (180, 80, 230))\n",
    "mask_white = cv2.inRange(hsv,(0,0,200),(180, 40, 255))\n",
    "hsv_edit = hsv.copy()\n",
    "\n",
    "hsv_edit[mask > 0, 0] = 20\n",
    "\n",
    "hsv_edit[mask > 0, 1] = np.clip(hsv[mask > 0, 1] + 60, 0, 255)\n",
    "\n",
    "# Darken a bit to avoid orange glow\n",
    "hsv_edit[mask > 0, 2] = np.clip(hsv[mask > 0, 2] - 40, 0, 255)\n",
    "hsv_edit[mask_white > 0, 0] = 15      # Hue ~15 (reddish brown/orange)\n",
    "hsv_edit[mask_white > 0, 1] = 150     # Medium saturation (not neon)\n",
    "hsv_edit[mask_white > 0, 2] = np.clip(hsv[mask_white > 0, 2] * 0.4, 0, 255)\n",
    "# Convert back to RGB\n",
    "edited = cv2.cvtColor(hsv_edit, cv2.COLOR_HSV2RGB)\n",
    "\n",
    "# Replace in original image\n",
    "cropped_goose[int(chest_roi[1]):int(chest_roi[1]+chest_roi[3]), \n",
    "              int(chest_roi[0]):int(chest_roi[0]+chest_roi[2])] = edited\n",
    "\n",
    "plt.imshow(cropped_goose)\n",
    "plt.axis(\"off\")\n",
    "plt.show()"
   ]
  },
  {
   "cell_type": "code",
   "execution_count": null,
   "id": "d5797373",
   "metadata": {},
   "outputs": [],
   "source": [
    "beak_roi = (55, 74, 120, 97)"
   ]
  },
  {
   "cell_type": "code",
   "execution_count": null,
   "id": "a16bda05",
   "metadata": {},
   "outputs": [],
   "source": [
    "# Convert to HSV for color masking\n",
    "beak_img = cropped_goose[int(beak_roi[1]):int(beak_roi[1]+beak_roi[3]), int(beak_roi[0]):int(beak_roi[0]+beak_roi[2])]\n",
    "hsv = cv2.cvtColor(beak_img, cv2.COLOR_RGB2HSV)\n",
    "\n",
    "lower_green = (35, 40, 40)\n",
    "upper_green = (85, 255, 255)\n",
    "green_mask = cv2.inRange(hsv, lower_green, upper_green)\n",
    "\n",
    "# Invert: everything NOT green\n",
    "non_green_mask = cv2.bitwise_not(green_mask)\n",
    "\n",
    "# Apply green color to masked area\n",
    "edited = beak_img.copy()\n",
    "edited[non_green_mask> 0] = [255, 180, 0]  # orange-yellow\n",
    "\n",
    "cropped_goose[int(beak_roi[1]):int(beak_roi[1]+beak_roi[3]), int(beak_roi[0]):int(beak_roi[0]+beak_roi[2])] = edited\n",
    "plt.imshow(cropped_goose)\n",
    "plt.axis(\"off\")\n",
    "plt.show()"
   ]
  },
  {
   "cell_type": "code",
   "execution_count": null,
   "id": "9404b462",
   "metadata": {},
   "outputs": [],
   "source": [
    "#make goose shorter to become duck\n",
    "\n",
    "# Scale factors\n",
    "scale_y = 0.25   # shrink height to 60%\n",
    "scale_x = 1.0   # keep width the same\n",
    "\n",
    "new_w = int(cropped_goose.shape[1] * scale_x)\n",
    "new_h = int(cropped_goose.shape[0] * scale_y)\n",
    "\n",
    "# Resize\n",
    "shorter_goose = cv2.resize(cropped_goose, (new_w, new_h))\n",
    "plt.imshow(shorter_goose)\n",
    "plt.axis(\"off\")\n",
    "plt.show()\n",
    "\n"
   ]
  },
  {
   "cell_type": "markdown",
   "id": "c064bce3",
   "metadata": {},
   "source": [
    "### Sharpening Kernel (Laplacian-based) \n"
   ]
  },
  {
   "cell_type": "code",
   "execution_count": null,
   "id": "a1863ab4",
   "metadata": {},
   "outputs": [],
   "source": [
    "kernel = np.array([[-1, -1, -1],\n",
    "                              [-1,  9, -1],\n",
    "                              [-1, -1, -1]])\n",
    "final_duck = cv2.filter2D(shorter_goose, -1, kernel)\n",
    "plt.imshow(final_duck)\n",
    "plt.axis(\"off\")\n",
    "plt.show()"
   ]
  },
  {
   "cell_type": "code",
   "execution_count": null,
   "id": "ede30cc6",
   "metadata": {},
   "outputs": [],
   "source": [
    "fig, axes = plt.subplots(1, 2, figsize=(8, 3))\n",
    "\n",
    "# Display Image 1\n",
    "axes[0].imshow(plt.imread(goose_img)) \n",
    "axes[0].set_title('Ugly Goose')\n",
    "axes[0].axis('off')                 \n",
    "\n",
    "# Display Image 2\n",
    "axes[1].imshow(final_duck) \n",
    "axes[1].set_title('Final Duck')\n",
    "axes[1].axis('off')             \n",
    "\n",
    "plt.tight_layout()  \n",
    "plt.show()         "
   ]
  }
 ],
 "metadata": {
  "kernelspec": {
   "display_name": "venv",
   "language": "python",
   "name": "python3"
  },
  "language_info": {
   "codemirror_mode": {
    "name": "ipython",
    "version": 3
   },
   "file_extension": ".py",
   "mimetype": "text/x-python",
   "name": "python",
   "nbconvert_exporter": "python",
   "pygments_lexer": "ipython3",
   "version": "3.13.5"
  }
 },
 "nbformat": 4,
 "nbformat_minor": 5
}
