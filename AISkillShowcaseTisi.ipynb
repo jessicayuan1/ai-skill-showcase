{
  "nbformat": 4,
  "nbformat_minor": 0,
  "metadata": {
    "colab": {
      "provenance": [],
      "authorship_tag": "ABX9TyNBanyno814bwJ9zY5yT0yo",
      "include_colab_link": true
    },
    "kernelspec": {
      "name": "python3",
      "display_name": "Python 3"
    },
    "language_info": {
      "name": "python"
    }
  },
  "cells": [
    {
      "cell_type": "markdown",
      "metadata": {
        "id": "view-in-github",
        "colab_type": "text"
      },
      "source": [
        "<a href=\"https://colab.research.google.com/github/tisianewembou/ai-skill-showcaseTisianeW/blob/feature%2FTisiane/AISkillShowcaseTisi.ipynb\" target=\"_parent\"><img src=\"https://colab.research.google.com/assets/colab-badge.svg\" alt=\"Open In Colab\"/></a>"
      ]
    },
    {
      "cell_type": "code",
      "execution_count": 11,
      "metadata": {
        "id": "VWOAPk324BTx"
      },
      "outputs": [],
      "source": [
        "# AI Skill Showcase - Dolphin edition ( my favourite animal)\n",
        "# Goal: Load a dolphin image, apply  rainbow edge transformation, display original and transformed images side-by-side.\n",
        "\n",
        "# Importing needed libraries:\n",
        "\n",
        "# OpenCV for image loading + processing + transformations\n",
        "import cv2 as cv\n",
        "# numpy for array manipulation + handling image data\n",
        "import numpy as np\n",
        "# matplotlib.pyplot for displaying images\n",
        "import matplotlib.pyplot as plt\n",
        "\n",
        "# Step 1: Load the dolphin image ( BGR format)\n",
        "img = cv.imread(\"dolphin.png\")\n",
        "\n",
        "# Check if the image loaded correctly\n",
        "if img is None:\n",
        "    raise FileNotFoundError(\"dolphin.png not found! Make sure it's in your repo folder.\")\n",
        "else:\n",
        "    print(\"Step 1 complete: Dolphin image loaded successfully YAY!\")\n",
        "\n",
        "\n",
        "\n"
      ]
    }
  ]
}