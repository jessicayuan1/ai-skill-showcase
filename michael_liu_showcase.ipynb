{
 "cells": [
  {
   "cell_type": "markdown",
   "id": "9bbde3e6",
   "metadata": {},
   "source": [
    "# Michael Liu - AI Skills Showcase\n",
    "Hi, I'm Michael, I'm an Honours Mathematics Student at the University of Waterloo. Outside of school, I coach tennis and I'm a distance runner. Over the summer, I really got into machine learning. I took a few courses on YouTube on scikit-learn, PyTorch, SQL, Pandas, etc. While I am a Mathematics major, I want to make a difference in healthcare which is why I chose Project See-DR as my top choice. \n",
    "\n",
    "This is my AI Showcase for my application to Project See-DR. I'm creating a CNN model using PyTorch to accuractely predict hand-drawn numbers from the MNIST dataset. The custom CNN model contains 2 convolutional layers and then 2 linear layers. Model achieved 99.10% on training set and 99.36% on the testing set. \n",
    "\n",
    "---\n",
    "\n",
    "Notebook Order\n",
    "1. Loading Required Libraries\n",
    "    * `!pip install -r requirements.txt` to download required libraries\n",
    "2. Loading datasets from PyTorch datasets\n",
    "    * Loading the MNIST dataset from PyTorch \n",
    "    * The dataset contains 60,000 training and 10,000 testing images of hand-drawn digits 0-9\n",
    "3. Viewing 2 images\n",
    "4. Setting up DataLoaders for training\n",
    "    * Model is trained using DataLoaders with batch size 32 and shuffling\n",
    "    * Allows model to update weights multiple times per epoch\n",
    "5. Model Architecture, Loss, Accuracy, Optimizer\n",
    "    * Custom CNN Model built\n",
    "    * Model starts with 2 layers of `nn.Conv2d()` Filter Layer -> `nn.ReLU()` Non-Linear Activation -> `nn.MaxPool2d()` Spacial Size Decrease\n",
    "    * `nn.CrossEntropyLoss()` as loss function as this problem is multiclassification\n",
    "    * `torch.optim.Adam()` as optimization function with 0.001 learning rate\n",
    "6. Train-Test Loop\n",
    "    * Trained model on 7 epochs\n",
    "    * Acheived > 99% accuracy on the test set\n",
    "7. View 2 predictions on the Test Set"
   ]
  },
  {
   "cell_type": "markdown",
   "id": "db9c5fd0",
   "metadata": {},
   "source": [
    "### 1. Load Required Libraries\n"
   ]
  },
  {
   "cell_type": "code",
   "execution_count": null,
   "id": "24c99c95",
   "metadata": {},
   "outputs": [
    {
     "data": {
      "text/plain": [
       "'mps'"
      ]
     },
     "execution_count": 35,
     "metadata": {},
     "output_type": "execute_result"
    }
   ],
   "source": [
    "#!pip install -r requirements.txt to download required libraries\n",
    "import torch\n",
    "from torchvision import datasets, transforms\n",
    "from torch import nn\n",
    "import matplotlib.pyplot as plt\n",
    "from torch.utils.data import DataLoader\n",
    "\n",
    "#Device Agnostic Code/GPU acceleration -> mps is only for Silicon Macs, cuda requires NVIDIA GPU\n",
    "device = (\n",
    "    \"cuda\"\n",
    "    if torch.cuda.is_available()\n",
    "    else \"mps\" if torch.backends.mps.is_available() else \"cpu\"\n",
    ")\n",
    "device"
   ]
  },
  {
   "cell_type": "markdown",
   "id": "4ca5e09f",
   "metadata": {},
   "source": [
    "### 2. Dataset Loading"
   ]
  },
  {
   "cell_type": "code",
   "execution_count": 36,
   "id": "cc51845c",
   "metadata": {},
   "outputs": [],
   "source": [
    "#Tranformation (Convert to Tensor)\n",
    "transform = transforms.ToTensor()\n",
    "\n",
    "#Load Datasets from PyTorch datasets\n",
    "train_set = datasets.MNIST(root = './data', train = True, transform = transform, download = True)\n",
    "test_set = datasets.MNIST(root = './data', train = False, transform = transform, download = True)"
   ]
  },
  {
   "cell_type": "code",
   "execution_count": 37,
   "id": "bfdda3a5",
   "metadata": {},
   "outputs": [
    {
     "name": "stdout",
     "output_type": "stream",
     "text": [
      "60000 10000\n"
     ]
    }
   ],
   "source": [
    "print(len(train_set), len(test_set))"
   ]
  },
  {
   "cell_type": "code",
   "execution_count": 38,
   "id": "1935d728",
   "metadata": {},
   "outputs": [
    {
     "name": "stdout",
     "output_type": "stream",
     "text": [
      "torch.Size([1, 28, 28]) 5\n"
     ]
    }
   ],
   "source": [
    "img, label = train_set[0]\n",
    "print(img.shape, label)"
   ]
  },
  {
   "cell_type": "markdown",
   "id": "a1d5966f",
   "metadata": {},
   "source": [
    "### 3. View 2 Images from the Set"
   ]
  },
  {
   "cell_type": "code",
   "execution_count": 39,
   "id": "6aa69bb1",
   "metadata": {},
   "outputs": [
    {
     "data": {
      "image/png": "[encoded data removed]",
      "text/plain": [
       "<Figure size 500x300 with 2 Axes>"
      ]
     },
     "metadata": {},
     "output_type": "display_data"
    }
   ],
   "source": [
    "fig, ax = plt.subplots(1, 2, figsize = (5, 3))\n",
    "\n",
    "#First Image\n",
    "img1, label1 = train_set[0]\n",
    "ax[0].imshow(img1[0], cmap = \"gray\")\n",
    "ax[0].set_title(f\"Label: {label1}\")\n",
    "ax[0].axis(\"off\")\n",
    "\n",
    "#Second Image\n",
    "img2, label2 = train_set[1]\n",
    "ax[1].imshow(img2[0], cmap = \"gray\")\n",
    "ax[1].set_title(f\"Label: {label2}\")\n",
    "ax[1].axis(\"off\")\n",
    "\n",
    "plt.show()"
   ]
  },
  {
   "cell_type": "markdown",
   "id": "70d11f45",
   "metadata": {},
   "source": [
    "### 4. Setup DataLoaders"
   ]
  },
  {
   "cell_type": "code",
   "execution_count": 40,
   "id": "a24cee4b",
   "metadata": {},
   "outputs": [],
   "source": [
    "#Train the model in batches. Allows model to update weights more often\n",
    "train_loader = DataLoader(train_set, batch_size = 32, shuffle = True, drop_last = True)\n",
    "test_loader  = DataLoader(test_set, batch_size = 1000, shuffle = False, drop_last = True)"
   ]
  },
  {
   "cell_type": "markdown",
   "id": "ed191c2e",
   "metadata": {},
   "source": [
    "### 5. Model Architecture, Loss Function, and Optimizer"
   ]
  },
  {
   "cell_type": "code",
   "execution_count": 41,
   "id": "5b43296b",
   "metadata": {},
   "outputs": [],
   "source": [
    "class MNISTClassifier(nn.Module):\n",
    "    def __init__(self):\n",
    "        super().__init__()\n",
    "        #Feature Extraction/Convolutional Layers\n",
    "        self.convolution = nn.Sequential(\n",
    "            #Starting Size [32 (batch size), 1 (channels), 28 (height), 28 (width)]\n",
    "            nn.Conv2d(in_channels = 1, out_channels = 32, kernel_size = 3, stride = 1, padding = 1), #Upscale from 1 \n",
    "            nn.ReLU(), #Non-linear activation function\n",
    "            nn.MaxPool2d((2, 2)), #Spacial size reduction\n",
    "\n",
    "            # [32, 32, 14, 14]\n",
    "            nn.Conv2d(in_channels = 32, out_channels = 64, kernel_size = 3, stride = 1, padding = 1),\n",
    "            nn.ReLU(),\n",
    "            nn.MaxPool2d((2, 2))\n",
    "            # [32, 64, 7, 7]\n",
    "        )\n",
    "        #Classification (Fully Connected Layers)\n",
    "        self.classifier = nn.Sequential(\n",
    "            # [32, 64, 7, 7]\n",
    "            nn.Flatten(), #Flatten into 64*7*7 by 1 tensor\n",
    "            # [32, 3136]\n",
    "            nn.Linear(in_features = 3136, out_features = 128),\n",
    "            # [32, 128]\n",
    "            nn.ReLU(),\n",
    "            nn.Dropout(0.4), #Turn off some neurons to prevent overfitting\n",
    "            nn.Linear(in_features = 128, out_features = 10) #Downsize to number of classes\n",
    "            # [32, 10]\n",
    "        )\n",
    "        #Model Pipeline \n",
    "        self.order = nn.Sequential(\n",
    "            self.convolution,\n",
    "            self.classifier\n",
    "        )\n",
    "    def forward(self, x):\n",
    "        \"\"\"Forward Pass Function Override\"\"\"\n",
    "        return self.order(x)"
   ]
  },
  {
   "cell_type": "code",
   "execution_count": 42,
   "id": "8774f1b2",
   "metadata": {},
   "outputs": [],
   "source": [
    "#Initialize the model and move to device\n",
    "model = MNISTClassifier().to(device)"
   ]
  },
  {
   "cell_type": "code",
   "execution_count": 43,
   "id": "b3ecbc6e",
   "metadata": {},
   "outputs": [],
   "source": [
    "#Accuracy, Loss, and Optimization Functions\n",
    "def accuracy_function(pred: torch.Tensor, true: torch.Tensor) -> float:\n",
    "    \"\"\"Calculates classification accuracy as a percentage.\"\"\"\n",
    "    correct = torch.eq(pred, true).sum().item()\n",
    "    return correct / len(pred) * 100\n",
    "\n",
    "loss_function = torch.nn.CrossEntropyLoss() #Cross Entropy loss for multiclass classification. Takes logits as input\n",
    "optimizer = torch.optim.Adam(params = model.parameters(), lr = 0.001)"
   ]
  },
  {
   "cell_type": "markdown",
   "id": "c3100488",
   "metadata": {},
   "source": [
    "### 6. Train-Test Loop"
   ]
  },
  {
   "cell_type": "code",
   "execution_count": 44,
   "id": "da9bba1d",
   "metadata": {},
   "outputs": [],
   "source": [
    "def train_test_loop(\n",
    "    model: torch.nn.Module,\n",
    "    train_dataloader: torch.utils.data.DataLoader,\n",
    "    test_dataloader: torch.utils.data.DataLoader,\n",
    "    epochs: int,\n",
    "    optimization_function: torch.optim.Optimizer,\n",
    "    accuracy_function: callable,\n",
    "    loss_function: torch.nn.Module,\n",
    "    device: str\n",
    ") -> None: \n",
    "    \"\"\"Runs `epoch` number of training and testing loops for a model. Prints accuracy and loss every epoch.\"\"\"\n",
    "    torch.manual_seed(11)\n",
    "    for epoch in range(epochs):\n",
    "        print(f\"Epoch: {epoch} =================================\")\n",
    "        #Training Loop\n",
    "        model.train() #Set to train mode\n",
    "        train_loss_total, train_acc_total = 0, 0 #Keep track of total loss and total acc, then divide by number of batches at end\n",
    "        #Loop through training dataloader\n",
    "        for X_batch, y_batch in train_dataloader:\n",
    "            #Move batch to device\n",
    "            X_batch, y_batch = X_batch.to(device), y_batch.to(device)\n",
    "            #Forward Pass\n",
    "            y_train_pred_logits = model(X_batch)\n",
    "            #Loss Calculation\n",
    "            loss = loss_function(y_train_pred_logits, y_batch)\n",
    "            train_loss_total += loss.item()\n",
    "            #Backpropagation to update weights\n",
    "            optimization_function.zero_grad()\n",
    "            loss.backward()\n",
    "            #Gradient Descent\n",
    "            optimization_function.step()\n",
    "            #Calculate accuracy\n",
    "            accuracy = accuracy_function(y_train_pred_logits.argmax(dim = 1), y_batch)\n",
    "            train_acc_total += accuracy\n",
    "        #Device total accuracy and loss by size of dataloader\n",
    "        train_acc = train_acc_total / len(train_dataloader)\n",
    "        train_loss = train_loss_total / len(train_dataloader)\n",
    "        print(f\"Train Loss: {train_loss} | Train Accuracy: {train_acc}\")\n",
    "\n",
    "        #Testing Loop\n",
    "        model.eval() #Set to eval mode, untrack gradients\n",
    "        test_loss_total, test_accuracy_total = 0, 0\n",
    "        with torch.inference_mode():\n",
    "            for X_batch, y_batch in test_dataloader:\n",
    "                #Move to device\n",
    "                X_batch, y_batch = X_batch.to(device), y_batch.to(device)\n",
    "                #Forward Pass\n",
    "                y_test_pred_logits = model(X_batch)\n",
    "                # Loss\n",
    "                loss = loss_function(y_test_pred_logits, y_batch)\n",
    "                test_loss_total += loss.item()\n",
    "                # Accuracy\n",
    "                accuracy = accuracy_function(y_test_pred_logits.argmax(dim = 1), y_batch)\n",
    "                test_accuracy_total += accuracy\n",
    "        #Divide totals by length of dataloader\n",
    "        test_acc = test_accuracy_total / len(test_dataloader)\n",
    "        test_loss = test_loss_total / len(test_dataloader)\n",
    "        print(f\"Test Loss: {test_loss} | Test Accuracy: {test_acc}\")\n"
   ]
  },
  {
   "cell_type": "code",
   "execution_count": 45,
   "id": "5c00b37d",
   "metadata": {},
   "outputs": [
    {
     "name": "stdout",
     "output_type": "stream",
     "text": [
      "Epoch: 0 =================================\n",
      "Train Loss: 0.20956429180999597 | Train Accuracy: 93.45333333333333\n",
      "Test Loss: 0.062066939659416676 | Test Accuracy: 97.97\n",
      "Epoch: 1 =================================\n",
      "Train Loss: 0.07836587504784887 | Train Accuracy: 97.69833333333334\n",
      "Test Loss: 0.03989974912256002 | Test Accuracy: 98.65\n",
      "Epoch: 2 =================================\n",
      "Train Loss: 0.057724378549757725 | Train Accuracy: 98.23833333333333\n",
      "Test Loss: 0.026541224075481297 | Test Accuracy: 99.06\n",
      "Epoch: 3 =================================\n",
      "Train Loss: 0.04628414956366566 | Train Accuracy: 98.57333333333334\n",
      "Test Loss: 0.03109415147919208 | Test Accuracy: 98.9\n",
      "Epoch: 4 =================================\n",
      "Train Loss: 0.03665421998932822 | Train Accuracy: 98.89833333333333\n",
      "Test Loss: 0.026531986147165298 | Test Accuracy: 99.1\n",
      "Epoch: 5 =================================\n",
      "Train Loss: 0.031816906777649034 | Train Accuracy: 99.01333333333334\n",
      "Test Loss: 0.02446080628433265 | Test Accuracy: 99.24\n",
      "Epoch: 6 =================================\n",
      "Train Loss: 0.028972473676273754 | Train Accuracy: 99.10166666666667\n",
      "Test Loss: 0.022100149863399567 | Test Accuracy: 99.35999999999999\n"
     ]
    }
   ],
   "source": [
    "#Run the training and testing loop for 5 epochs\n",
    "train_test_loop(\n",
    "    model = model,\n",
    "    train_dataloader = train_loader,\n",
    "    test_dataloader = test_loader,\n",
    "    epochs = 7,\n",
    "    optimization_function = optimizer,\n",
    "    accuracy_function = accuracy_function,\n",
    "    loss_function = loss_function,\n",
    "    device = device\n",
    ")"
   ]
  },
  {
   "cell_type": "markdown",
   "id": "58d2a32e",
   "metadata": {},
   "source": [
    "### 7. View 2 Predictions on the Test Set"
   ]
  },
  {
   "cell_type": "code",
   "execution_count": 46,
   "id": "a0189ab1",
   "metadata": {},
   "outputs": [
    {
     "data": {
      "image/png": "[encoded data removed]",
      "text/plain": [
       "<Figure size 500x300 with 2 Axes>"
      ]
     },
     "metadata": {},
     "output_type": "display_data"
    }
   ],
   "source": [
    "#Set model to evaluation mode and turn off gradient tracking\n",
    "model.eval()\n",
    "with torch.inference_mode():\n",
    "    #Pick 2 samples from the test set\n",
    "    img1, label1 = test_set[0]\n",
    "    img2, label2 = test_set[1]\n",
    "\n",
    "    #Forward pass\n",
    "    out1 = model(img1.unsqueeze(0).to(device)) #Add expected batch dimension and move to device\n",
    "    out2 = model(img2.unsqueeze(0).to(device))\n",
    "    pred1 = out1.argmax(dim = 1).item()\n",
    "    pred2 = out2.argmax(dim = 1).item()\n",
    "\n",
    "#Plotting\n",
    "fig, ax = plt.subplots(1, 2, figsize = (5, 3))\n",
    "\n",
    "ax[0].imshow(img1[0], cmap = \"gray\")\n",
    "ax[0].set_title(f\"True: {label1} | Pred: {pred1}\")\n",
    "ax[0].axis(\"off\")\n",
    "\n",
    "ax[1].imshow(img2[0], cmap = \"gray\")\n",
    "ax[1].set_title(f\"True: {label2} | Pred: {pred2}\")\n",
    "ax[1].axis(\"off\")\n",
    "\n",
    "plt.show()"
   ]
  }
 ],
 "metadata": {
  "kernelspec": {
   "display_name": ".venv (3.13.6)",
   "language": "python",
   "name": "python3"
  },
  "language_info": {
   "codemirror_mode": {
    "name": "ipython",
    "version": 3
   },
   "file_extension": ".py",
   "mimetype": "text/x-python",
   "name": "python",
   "nbconvert_exporter": "python",
   "pygments_lexer": "ipython3",
   "version": "3.13.6"
  }
 },
 "nbformat": 4,
 "nbformat_minor": 5
}
