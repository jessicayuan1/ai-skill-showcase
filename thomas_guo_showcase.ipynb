{
  "cells": [
    {
      "cell_type": "markdown",
      "metadata": {
        "id": "view-in-github",
        "colab_type": "text"
      },
      "source": [
        "<a href=\"https://colab.research.google.com/github/r1thm/ai-skill-showcase-fork/blob/feature%2Fthomas_guo/thomas_guo_showcase.ipynb\" target=\"_parent\"><img src=\"https://colab.research.google.com/assets/colab-badge.svg\" alt=\"Open In Colab\"/></a>"
      ]
    },
    {
      "cell_type": "markdown",
      "id": "7afd8b5b-9523-4dee-815f-c2741a4185cd",
      "metadata": {
        "id": "7afd8b5b-9523-4dee-815f-c2741a4185cd"
      },
      "source": [
        "# Welcome to my Jupyter Notebook :D"
      ]
    },
    {
      "cell_type": "markdown",
      "id": "8a0c90fe-f0ba-4a58-8df3-febf80553a89",
      "metadata": {
        "id": "8a0c90fe-f0ba-4a58-8df3-febf80553a89"
      },
      "source": [
        "# Introduction\n",
        "\n",
        "### Hello! I'm Thomas, and I am a 1A CS/BBA Double Degree student with UW & Laurier 😋. I like cats, Roblox, and flowers (ask me about my trip to the Shibazakura festival in Fuji!) Learning about WAT.ai's contribution to research and medicine in SEE-DR also made me want to become heavily involved with this project, as someone who has participated in volunteering and research in neuropsychology for the past five years. My interests lie in public health, neurology, and environmental science!\n",
        "\n",
        "# What does this do?\n",
        "\n",
        "### This program uniquely generates two 8x8 pixelated flowers (bud and blossom). An AI model (Logistic Regression from Sklearn) is trained on these images to recognize and label which generated image is a bud or a blossom image.\n",
        "\n",
        "# Why did I make this?\n",
        "\n",
        "### Each flower is unique, despite the uniformity we see from afar. I played with Gaussian noise to create these unique images with the hope of encouraging the AI to approach each unique flower with an informed decision, rather than rote memorization! Similarly, no patient's condition is identical to another individual's, so it is naturally important to approach and learn of each individual's circumstances, history, and environment to adjust our standard of care. I hope to join SEE-DR to further learn and realize how AI learning models approach diversity in the decision-making processes of the real world.\n",
        "\n",
        "### Sidenote: These flowers remind me of oxeye daisies in Minecraft (or wither roses for colour.)"
      ]
    },
    {
      "cell_type": "code",
      "execution_count": 1,
      "id": "049f9e1c-2174-4ea5-ac61-b7ead00a8405",
      "metadata": {
        "colab": {
          "base_uri": "https://localhost:8080/",
          "height": 343
        },
        "id": "049f9e1c-2174-4ea5-ac61-b7ead00a8405",
        "outputId": "a34a53d4-d47e-4936-f901-a197319a33b3"
      },
      "outputs": [
        {
          "output_type": "stream",
          "name": "stdout",
          "text": [
            "Let's have the AI generate, train, learn and predict the difference between a blooming flower and a bud 🔥🔥👍👍\n",
            "Accuracy Score: 1.0\n"
          ]
        },
        {
          "output_type": "display_data",
          "data": {
            "text/plain": [
              "<Figure size 600x300 with 2 Axes>"
            ],
            "image/png": "[encoded data removed]"
          },
          "metadata": {}
        },
        {
          "output_type": "stream",
          "name": "stdout",
          "text": [
            "Yay! The AI can recognize what a bud or a bloomed flower looks like :D\n"
          ]
        }
      ],
      "source": [
        "# --- setup ---\n",
        "import matplotlib.pyplot as plt\n",
        "import numpy as np\n",
        "from sklearn.linear_model import LogisticRegression\n",
        "from sklearn.model_selection import train_test_split\n",
        "from sklearn.metrics import accuracy_score\n",
        "\n",
        "print(\"Let's have the AI generate, train, learn and predict the difference between a blooming flower and a bud 🔥🔥👍👍\")\n",
        "\n",
        "# --- create a pixelated flower ---\n",
        "\n",
        "def make_flower(flower_type=\"bud\"): #generates a simple, uniform flower image.\n",
        "    img = np.zeros((8, 8)) #the entire image starts off with a black slate.\n",
        "    if flower_type == \"bud\":\n",
        "        img[3:5, 3:5] = 1  # denotes a small square in the middle. =1 means white.\n",
        "    elif flower_type == \"bloom\":\n",
        "        img[2:6, 2:6] = 1  # denotes a larger white square (than bud) in the middle.\n",
        "        img[3:5, 3:5] = 0  # centre becomes more hollow (petal effect). =0 means black.\n",
        "    return img\n",
        "# --- create an empty list for appending ---\n",
        "X = []\n",
        "y = []\n",
        "\n",
        "# --- generate a unique flower each run with noise ---\n",
        "for _ in range(200): # repeats noise dist for 200 buds & 200 blooms in a list. for AI training use.\n",
        "    bud = make_flower(\"bud\") + np.random.normal(0, 0.2, (8,8))  #adds Gaussian noise. (x,y,z) = (mean of norm.dist, STDEV, array).\n",
        "    bloom = make_flower(\"bloom\") + np.random.normal(0, 0.2, (8,8))\n",
        "    X.append(bud.flatten())\n",
        "    y.append(0)  # bud label\n",
        "    X.append(bloom.flatten())\n",
        "    y.append(1)  # bloom label\n",
        "\n",
        "X = np.array(X)\n",
        "y = np.array(y)\n",
        "\n",
        "# --- train/test split ---\n",
        "X_train, X_test, y_train, y_test = train_test_split(X, y, test_size=0.2, random_state=42) #borrowed =42 from example. culture.\n",
        "#20% of 200+200 samples are for testing, 80% for training.\n",
        "\n",
        "# --- train the model ---\n",
        "clf = LogisticRegression(max_iter=1000) #=1000 good for this noisy data.\n",
        "clf.fit(X_train, y_train)\n",
        "\n",
        "y_pred = clf.predict(X_test)\n",
        "print(\"Accuracy Score:\", accuracy_score(y_test, y_pred)) # num of correct pred. / total num of pred.\n",
        "\n",
        "# --- display the two outcomes ---\n",
        "fig, axes = plt.subplots(1, 2, figsize=(6, 3))\n",
        "\n",
        "idx1, idx2 = 1, 2 #feel free to change the index values (i.e. 5, 35); you can have a successful bud-bud or bloom-bloom scenario.\n",
        "axes[0].imshow(X_test[idx1].reshape(8, 8), cmap=\"gray\")\n",
        "axes[0].set_title(f\"Actual: {'Bud' if y_test[idx1]==0 else 'Bloom'}\\nPrediction: {'Bud' if clf.predict([X_test[idx1]])[0]==0 else 'Bloom'}\")\n",
        "axes[0].axis(\"off\")\n",
        "\n",
        "axes[1].imshow(X_test[idx2].reshape(8, 8), cmap=\"gray\")\n",
        "axes[1].set_title(f\"Actual: {'Bud' if y_test[idx2]==0 else 'Bloom'}\\nPrediction: {'Bud' if clf.predict([X_test[idx2]])[0]==0 else 'Bloom'}\")\n",
        "axes[1].axis(\"off\")\n",
        "\n",
        "plt.show()\n",
        "\n",
        "# --- it's over ---\n",
        "print(\"Yay! The AI can recognize what a bud or a bloomed flower looks like :D\")\n"
      ]
    }
  ],
  "metadata": {
    "kernelspec": {
      "display_name": "Python 3 (ipykernel)",
      "language": "python",
      "name": "python3"
    },
    "language_info": {
      "codemirror_mode": {
        "name": "ipython",
        "version": 3
      },
      "file_extension": ".py",
      "mimetype": "text/x-python",
      "name": "python",
      "nbconvert_exporter": "python",
      "pygments_lexer": "ipython3",
      "version": "3.13.7"
    },
    "colab": {
      "provenance": [],
      "include_colab_link": true
    }
  },
  "nbformat": 4,
  "nbformat_minor": 5
}