{
  "cells": [
    {
      "cell_type": "code",
      "execution_count": null,
      "metadata": {
        "id": "iCDwC2katC8t",
        "collapsed": true
      },
      "outputs": [],
      "source": [
        "pip install torch torchvision matplotlib"
      ]
    },
    {
      "cell_type": "code",
      "execution_count": null,
      "metadata": {
        "id": "cHiLELiOtC8u"
      },
      "outputs": [],
      "source": [
        "#import libraries\n",
        "import torch\n",
        "import torch.nn as nn\n",
        "import torch.optim as optim\n",
        "from torch.utils.data import DataLoader, Subset\n",
        "import torchvision\n",
        "from torchvision import datasets, transforms\n",
        "import matplotlib.pyplot as plt\n",
        "import numpy as np\n",
        "\n",
        "#load dataset CIFAR10\n",
        "transform = transforms.Compose([\n",
        "    transforms.ToTensor(),\n",
        "    transforms.Normalize((0.5, 0.5, 0.5), (0.5, 0.5, 0.5))\n",
        "])\n",
        "\n",
        "train_data = torchvision.datasets.CIFAR10(\n",
        "    root='./data',\n",
        "    train=True,\n",
        "    download=True,\n",
        "    transform=transform\n",
        ")\n",
        "test_data = torchvision.datasets.CIFAR10(\n",
        "    root='./data',\n",
        "    train=False,\n",
        "    download=True,\n",
        "    transform=transform\n",
        ")"
      ]
    },
    {
      "cell_type": "code",
      "execution_count": null,
      "metadata": {
        "id": "wGAjboThtC8v"
      },
      "outputs": [],
      "source": [
        "#data preprocessing\n",
        "#extract cat and dog classes\n",
        "cat_dog_labels = [3,5]\n",
        "train_idx = [i for i, (_, label) in enumerate(train_data) if label in cat_dog_labels]\n",
        "test_idx = [i for i, (_, label) in enumerate(test_data) if label in cat_dog_labels]\n",
        "\n",
        "train_set = Subset(train_data, train_idx)\n",
        "test_set = Subset(test_data, test_idx)\n",
        "\n",
        "#update labels to binary (cat=0, dog=1)\n",
        "class ToBinary(torch.utils.data.Dataset):\n",
        "    def __init__(self, subset):\n",
        "        self.subset = subset\n",
        "    def __getitem__(self, index):\n",
        "        x, y = self.subset[index]\n",
        "        return x, 0 if y == 3 else 1\n",
        "    def __len__(self):\n",
        "        return len(self.subset)\n",
        "\n",
        "train_set_bi = ToBinary(train_set)\n",
        "test_set_bi = ToBinary(test_set)\n",
        "\n",
        "trainloader = DataLoader(train_set_bi, batch_size=64)\n",
        "testloader = DataLoader(test_set_bi, batch_size=64)"
      ]
    },
    {
      "cell_type": "code",
      "execution_count": null,
      "metadata": {
        "id": "NMupK0XgtC8v"
      },
      "outputs": [],
      "source": [
        "#CNN model\n",
        "class CNN(nn.Module):\n",
        "    def __init__(self):\n",
        "        super(CNN, self).__init__()\n",
        "        self.conv1 = nn.Conv2d(3, 16, 3, padding=1) #takes 3-channel RGB input, applies 16 filters, each of size 3×3\n",
        "        self.conv2 = nn.Conv2d(16, 32, 3, padding=1)\n",
        "        self.pool = nn.MaxPool2d(2, 2)\n",
        "        self.fc1 = nn.Linear(32 * 8 * 8, 128)\n",
        "        self.fc2 = nn.Linear(128, 2)\n",
        "    def forward(self, x):\n",
        "        x = self.pool(nn.functional.relu(self.conv1(x)))\n",
        "        x = self.pool(nn.functional.relu(self.conv2(x)))\n",
        "        x = x.view(-1, 32 * 8 * 8)\n",
        "        x = nn.functional.relu(self.fc1(x))\n",
        "        x = self.fc2(x)\n",
        "        return x\n",
        "\n",
        "# Device setup (CUDA preferred)\n",
        "device = torch.device(\"cuda\" if torch.cuda.is_available() else \"cpu\")\n",
        "model = CNN().to(device)\n"
      ]
    },
    {
      "cell_type": "code",
      "source": [
        "#model training\n",
        "criterion = nn.CrossEntropyLoss()\n",
        "optimizer = optim.Adam(model.parameters(), lr=0.001)\n",
        "\n",
        "epochs = 25\n",
        "for epoch in range(epochs):\n",
        "    running_loss = 0.0\n",
        "    for inputs, labels in trainloader:\n",
        "        inputs, labels = inputs.to(device), labels.to(device)\n",
        "\n",
        "        optimizer.zero_grad() #zero out the gradients\n",
        "        outputs = model(inputs)\n",
        "        loss = criterion(outputs, labels)\n",
        "        loss.backward()\n",
        "        optimizer.step()\n",
        "\n",
        "        running_loss += loss.item()\n",
        "    print(f\"Epoch {epoch+1}, Loss: {running_loss/len(trainloader):.3f}\")\n",
        "\n",
        "print(\"Training done.\")"
      ],
      "metadata": {
        "id": "Wmxq22W3w9TH",
        "collapsed": true
      },
      "execution_count": null,
      "outputs": []
    },
    {
      "cell_type": "code",
      "source": [
        "#evaluation\n",
        "correct = 0\n",
        "total = 0\n",
        "\n",
        "with torch.no_grad():\n",
        "    for inputs, labels in testloader:\n",
        "        inputs, labels = inputs.to(device), labels.to(device)\n",
        "        outputs = model(inputs)\n",
        "        _, predicted = torch.max(outputs, 1)\n",
        "        total += labels.size(0)\n",
        "        correct += (predicted == labels).sum().item()\n",
        "\n",
        "accuracy = 100 * correct / total"
      ],
      "metadata": {
        "id": "YQmaFkGZ170Q"
      },
      "execution_count": 19,
      "outputs": []
    },
    {
      "cell_type": "code",
      "source": [
        "#visualization\n",
        "#get a batch of test images for visualization\n",
        "dataiter = iter(testloader)\n",
        "images, labels = next(dataiter)\n",
        "\n",
        "#get predictions\n",
        "outputs = model(images.to(device))\n",
        "_, preds = torch.max(outputs, 1)\n",
        "\n",
        "#unnormalize images for visualization\n",
        "images = images / 2 + 0.5 # unnormalize\n",
        "npimg = images.numpy()\n",
        "\n",
        "#choose two images to visualize\n",
        "idx1, idx2 = 1, 3\n",
        "\n",
        "_, axes = plt.subplots(1, 3, figsize=(12,4))\n",
        "axes[0].axis('off')\n",
        "axes[0].text(0.5, 0.5, f\"Accuracy: {accuracy:.2f}%\", fontsize=14, ha='center')\n",
        "\n",
        "for ax, idx in zip(axes[1:], [idx1, idx2]):\n",
        "    ax.imshow(np.transpose(npimg[idx], (1, 2, 0)))\n",
        "    ax.set_title(f\"Pred: {'Dog' if preds[idx]==1 else 'Cat'}\\nTrue: {'Dog' if labels[idx]==1 else 'Cat'}\")\n",
        "    ax.axis('off')\n",
        "\n",
        "plt.show()"
      ],
      "metadata": {
        "colab": {
          "base_uri": "https://localhost:8080/",
          "height": 370
        },
        "id": "l8wkW6_44Lvs",
        "outputId": "f6f92960-27a4-44e9-c53e-2923f1f661d8"
      },
      "execution_count": 20,
      "outputs": [
        {
          "output_type": "display_data",
          "data": {
            "text/plain": [
              "<Figure size 1200x400 with 3 Axes>"
            ],
            "image/png": "[encoded data removed]"
          },
          "metadata": {}
        }
      ]
    }
  ],
  "metadata": {
    "colab": {
      "provenance": [],
      "gpuType": "T4"
    },
    "kernelspec": {
      "display_name": "Python 3",
      "name": "python3"
    },
    "language_info": {
      "codemirror_mode": {
        "name": "ipython",
        "version": 3
      },
      "file_extension": ".py",
      "mimetype": "text/x-python",
      "name": "python",
      "nbconvert_exporter": "python",
      "pygments_lexer": "ipython3",
      "version": "3.9.6"
    },
    "accelerator": "GPU"
  },
  "nbformat": 4,
  "nbformat_minor": 0
}