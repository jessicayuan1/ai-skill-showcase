{
 "cells": [
  {
   "cell_type": "markdown",
   "id": "intro",
   "metadata": {},
   "source": [
    "# Sidharth Shah - Markdown Intro + AI/ML Showcase\n",
    "\n",
    "My name is **Sidharth**, and I am a 2A BME student at uWaterloo. Over the past few months, I've learned that my passion in the bio-engineering field lies in intersections between software and health applications. This summer, I gained a lot of pure software experience, and I am now looking to take a step into the bio side as well. Wat.AI's See-DR project is my ideal first experience, as I would be able to work on a project in my field of interest."
   ]
  },
  {
   "cell_type": "markdown",
   "id": "step1-intro",
   "metadata": {},
   "source": [
    "## Step 1: Generate Two Images\n",
    "\n",
    "I'll create two simple synthetic images to work with."
   ]
  },
  {
   "cell_type": "code",
   "execution_count": null,
   "id": "imports",
   "metadata": {},
   "outputs": [],
   "source": [
    "# Import required libraries\n",
    "import numpy as np                   \n",
    "import matplotlib.pyplot as plt      \n",
    "from sklearn.cluster import KMeans    \n",
    "from scipy import ndimage\n",
    "\n",
    "#Dependencies for data manipulation, ml algorithm, and image processing"
   ]
  },
  {
   "cell_type": "code",
   "execution_count": null,
   "id": "generate-images",
   "metadata": {},
   "outputs": [],
   "source": [
    "# Create two simple images for demonstration\n",
    "np.random.seed(42)  \n",
    "\n",
    "# IMAGE 1: Making the image below\n",
    "image1 = np.zeros((100, 100))  \n",
    "center = 50                     \n",
    "\n",
    "# Create coordinate grids for x and y positions\n",
    "y, x = np.ogrid[:100, :100]\n",
    "\n",
    "# Create a circular mask using distance formula: (x-center)² + (y-center)² <= radius²\n",
    "mask = (x - center)**2 + (y - center)**2 <= 30**2  # Circle with radius 30\n",
    "image1[mask] = 1               # Set pixels inside circle to white (value 1)\n",
    "\n",
    "# Add a rectangular pattern inside the image\n",
    "image1[20:80, 20:30] = 0.5     # Rectangle from rows 20-80, columns 20-30 (gray value)\n",
    "\n",
    "# IMAGE 2:\n",
    "image2 = np.random.rand(100, 100)  # Create 100x100 image with random values [0,1] (black and white)\n",
    "\n",
    "# DISPLAY THE ORIGINAL IMAGES\n",
    "# Create a table to display images\n",
    "fig, axes = plt.subplots(1, 2, figsize=(8, 3))\n",
    "\n",
    "# Display Image 1\n",
    "axes[0].imshow(image1, cmap='gray')  # Show in grayscale colormap\n",
    "axes[0].set_title('Image 1: Geometric')\n",
    "axes[0].axis('off')                  # Hide axis ticks and labels\n",
    "\n",
    "# Display Image 2\n",
    "axes[1].imshow(image2, cmap='gray')  # Show in grayscale colormap\n",
    "axes[1].set_title('Image 2: Random')\n",
    "axes[1].axis('off')                  # Hide axis ticks and labels\n",
    "\n",
    "plt.tight_layout()  \n",
    "plt.show()          # Display the figures"
   ]
  },
  {
   "cell_type": "markdown",
   "id": "step2-intro",
   "metadata": {},
   "source": [
    "## Step 2: Apply Transformations\n",
    "\n",
    "I'll apply a simple transformation to each image: Gaussian blur for Image 1 and K-means clustering for Image 2."
   ]
  },
  {
   "cell_type": "code",
   "execution_count": null,
   "id": "transformations",
   "metadata": {},
   "outputs": [],
   "source": [
    "# TRANSFORMATION 1: Gaussian Blur\n",
    "# sigma=2 controls the blur strength (higher = more blur)\n",
    "transformed1 = ndimage.gaussian_filter(image1, sigma=2)\n",
    "\n",
    "# TRANSFORMATION 2: K-means Clustering\n",
    "# K-means groups similar pixel values into clusters (like digital posterization)\n",
    "# Each pixel becomes a single data point for the clustering algorithm\n",
    "pixels = image2.reshape(-1, 1)  # Convert (100,100) to (10000,1) shape\n",
    "\n",
    "# n_clusters=3 means we want to group pixels into 3 different intensity levels\n",
    "kmeans = KMeans(n_clusters=3, random_state=42)\n",
    "\n",
    "# Each pixel gets assigned to cluster 0, 1, or 2\n",
    "labels = kmeans.fit_predict(pixels)\n",
    "\n",
    "# Step 4: Reform the image\n",
    "transformed2 = labels.reshape(100, 100)\n",
    "\n",
    "\n",
    "# Summary of transformations\n",
    "print(\"Transformations applied successfully!\")\n",
    "print(f\"Image 1: Gaussian blur (sigma=2) - smoothed the geometric shapes\")\n",
    "print(f\"Image 2: K-means clustering (3 clusters) - grouped random noise into 3 regions\")"
   ]
  },
  {
   "cell_type": "markdown",
   "id": "step3-intro",
   "metadata": {},
   "source": [
    "## Step 3: Display Original and Transformed Results Side-by-Side\n",
    "\n",
    "Here are the before and after comparisons."
   ]
  },
  {
   "cell_type": "code",
   "execution_count": null,
   "id": "display-results",
   "metadata": {},
   "outputs": [],
   "source": [
    "# DISPLAY BEFORE AND AFTER\n",
    "# Create a 2x2 table for display\n",
    "fig, axes = plt.subplots(2, 2, figsize=(8, 6))\n",
    "\n",
    "# TOP ROW: Image 1 comparison (original vs blurred)\n",
    "axes[0, 0].imshow(image1, cmap='gray')         \n",
    "axes[0, 0].set_title('Original Image 1')      \n",
    "axes[0, 0].axis('off')                        \n",
    "\n",
    "axes[0, 1].imshow(transformed1, cmap='gray')   \n",
    "axes[0, 1].set_title('Blurred Image 1')       \n",
    "axes[0, 1].axis('off')                        \n",
    "\n",
    "# BOTTOM ROW: Image 2 comparison (original vs clustered)\n",
    "axes[1, 0].imshow(image2, cmap='gray')         \n",
    "axes[1, 0].set_title('Original Image 2')      \n",
    "axes[1, 0].axis('off')                       \n",
    "\n",
    "# Using 'viridis' colormap to show the 3 different clusters in different colors\n",
    "axes[1, 1].imshow(transformed2, cmap='viridis') \n",
    "axes[1, 1].set_title('Clustered Image 2')      \n",
    "axes[1, 1].axis('off')                         \n",
    "\n",
    "# Optimize the layout and display everything\n",
    "plt.tight_layout()  \n",
    "plt.show()          # Render and display the complete 2x2 comparison"
   ]
  },
  {
   "cell_type": "markdown",
   "id": "step4-methodology",
   "metadata": {},
   "source": [
    "## Step 4: Documentation of Approach\n",
    "\n",
    "### Image Generation\n",
    "- **Image 1**: Created a simple geometric pattern with a circle and rectangle\n",
    "- **Image 2**: Generated random noise using numpy\n",
    "\n",
    "### Transformations Applied\n",
    "- **Image 1**: Applied Gaussian blur to smooth the geometric shapes\n",
    "- **Image 2**: Used K-means clustering to segment the random noise into 3 distinct regions\n",
    "\n",
    "### Results\n",
    "The transformations successfully demonstrate basic image processing and machine learning techniques. The Gaussian blur softened the sharp edges, while K-means clustering organized the random data into meaningful groups.\n",
    "\n",
    "This showcase demonstrates my ability to work with Python, image processing, and machine learning fundamentals."
   ]
  }
 ],
 "metadata": {
  "kernelspec": {
   "display_name": "Python 3",
   "language": "python",
   "name": "python3"
  },
  "language_info": {
   "codemirror_mode": {
    "name": "ipython",
    "version": 3
   },
   "file_extension": ".py",
   "name": "python",
   "nbconvert_exporter": "python",
   "pygments_lexer": "ipython3",
   "version": "3.8.5"
  }
 },
 "nbformat": 4,
 "nbformat_minor": 4
}
